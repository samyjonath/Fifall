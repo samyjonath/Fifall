{
 "cells": [
  {
   "cell_type": "markdown",
   "id": "8b7d43a0-0614-4af5-81ff-077b7f9c6dc9",
   "metadata": {},
   "source": [
    "# Data Science Tools and Ecosystem"
   ]
  },
  {
   "cell_type": "markdown",
   "id": "a2118106-998c-4887-884b-419056364645",
   "metadata": {},
   "source": [
    "In this notebook, Data Science Tools and Ecosystem are summarized."
   ]
  },
  {
   "cell_type": "markdown",
   "id": "d33a37d1-d249-4c43-91b6-92abeb9a31f9",
   "metadata": {},
   "source": [
    "**Objectives:**\n",
    "- List popular languages for Data Science\n",
    "- List commonly used libraries used by Data Scientists\n",
    "- List the 3 main IDE used by Data Scientists\n"
   ]
  },
  {
   "cell_type": "markdown",
   "id": "7529c094-606d-4826-8d59-8131a1dd6806",
   "metadata": {},
   "source": [
    "Some of the popular languages that Data Scientists use are:\n",
    "1. Python\n",
    "2. R\n",
    "3. SQL\n"
   ]
  },
  {
   "cell_type": "markdown",
   "id": "b80bfbe8-37b5-4cd2-9553-157092b0c47f",
   "metadata": {},
   "source": [
    "Some of the commonly used libraries used by Data Scientists include:\n",
    "1. TensorFlow\n",
    "2. NumPy\n",
    "3. SciPy \n",
    "4. Pandas\n",
    "5. Matplotlib "
   ]
  },
  {
   "cell_type": "markdown",
   "id": "9e43e236-3d17-47fc-bd33-0cc3899b731b",
   "metadata": {},
   "source": [
    "| Data Science Tools | \n",
    "| -------------|\n",
    "| Jupyer |\n",
    "| Rstudio |\n",
    "| Google Collab |"
   ]
  },
  {
   "cell_type": "markdown",
   "id": "15b7f199-069e-4a03-a71f-886c32eb6187",
   "metadata": {},
   "source": [
    "### : Below are a few examples of evaluating arithmetic expressions in Python"
   ]
  },
  {
   "cell_type": "code",
   "execution_count": 5,
   "id": "05e971fc-941a-44d9-bd6a-6a7f2cfa1694",
   "metadata": {},
   "outputs": [
    {
     "data": {
      "text/plain": [
       "17"
      ]
     },
     "execution_count": 5,
     "metadata": {},
     "output_type": "execute_result"
    }
   ],
   "source": [
    "\"This a simple arithmetic expression to mutiply then add integers\"\n",
    "(3*4)+5"
   ]
  },
  {
   "cell_type": "code",
   "execution_count": 6,
   "id": "81e59e0c-2582-41e4-a900-090abf9022c0",
   "metadata": {},
   "outputs": [
    {
     "data": {
      "text/plain": [
       "3.3333333333333335"
      ]
     },
     "execution_count": 6,
     "metadata": {},
     "output_type": "execute_result"
    }
   ],
   "source": [
    "\"This will convert 200 minutes to hours by diving by 60\"\n",
    "200/60"
   ]
  },
  {
   "cell_type": "code",
   "execution_count": null,
   "id": "32efcd53-62de-4f64-a56b-e540abb1b6a7",
   "metadata": {},
   "outputs": [],
   "source": [
    "## Author\n",
    "Samy-Jo"
   ]
  },
  {
   "cell_type": "code",
   "execution_count": null,
   "id": "49e73e20-9813-4c4e-ac97-a8ae2fe02a1c",
   "metadata": {},
   "outputs": [],
   "source": []
  }
 ],
 "metadata": {
  "kernelspec": {
   "display_name": "Python 3 (ipykernel)",
   "language": "python",
   "name": "python3"
  },
  "language_info": {
   "codemirror_mode": {
    "name": "ipython",
    "version": 3
   },
   "file_extension": ".py",
   "mimetype": "text/x-python",
   "name": "python",
   "nbconvert_exporter": "python",
   "pygments_lexer": "ipython3",
   "version": "3.11.7"
  }
 },
 "nbformat": 4,
 "nbformat_minor": 5
}
